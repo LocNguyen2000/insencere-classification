{
 "cells": [
  {
   "cell_type": "code",
   "execution_count": 1,
   "id": "entertaining-accommodation",
   "metadata": {
    "_cell_guid": "b1076dfc-b9ad-4769-8c92-a6c4dae69d19",
    "_uuid": "8f2839f25d086af736a60e9eeb907d3b93b6e0e5",
    "execution": {
     "iopub.execute_input": "2021-06-11T06:31:43.395431Z",
     "iopub.status.busy": "2021-06-11T06:31:43.394174Z",
     "iopub.status.idle": "2021-06-11T06:31:43.407443Z",
     "shell.execute_reply": "2021-06-11T06:31:43.406835Z",
     "shell.execute_reply.started": "2021-06-11T06:18:25.223946Z"
    },
    "papermill": {
     "duration": 0.065616,
     "end_time": "2021-06-11T06:31:43.407632",
     "exception": false,
     "start_time": "2021-06-11T06:31:43.342016",
     "status": "completed"
    },
    "tags": []
   },
   "outputs": [
    {
     "name": "stdout",
     "output_type": "stream",
     "text": [
      "/kaggle/input/quora-insincere-questions-classification/sample_submission.csv\n",
      "/kaggle/input/quora-insincere-questions-classification/embeddings.zip\n",
      "/kaggle/input/quora-insincere-questions-classification/train.csv\n",
      "/kaggle/input/quora-insincere-questions-classification/test.csv\n"
     ]
    }
   ],
   "source": [
    "# This Python 3 environment comes with many helpful analytics libraries installed\n",
    "# It is defined by the kaggle/python Docker image: https://github.com/kaggle/docker-python\n",
    "# For example, here's several helpful packages to load\n",
    "\n",
    "import numpy as np # linear algebra\n",
    "import pandas as pd # data processing, CSV file I/O (e.g. pd.read_csv)\n",
    "\n",
    "# Input data files are available in the read-only \"../input/\" directory\n",
    "# For example, running this (by clicking run or pressing Shift+Enter) will list all files under the input directory\n",
    "\n",
    "import os\n",
    "for dirname, _, filenames in os.walk('/kaggle/input'):\n",
    "    for filename in filenames:\n",
    "        print(os.path.join(dirname, filename))\n",
    "\n",
    "# You can write up to 20GB to the current directory (/kaggle/working/) that gets preserved as output when you create a version using \"Save & Run All\" \n",
    "# You can also write temporary files to /kaggle/temp/, but they won't be saved outside of the current session"
   ]
  },
  {
   "cell_type": "markdown",
   "id": "enclosed-friendly",
   "metadata": {
    "papermill": {
     "duration": 0.046635,
     "end_time": "2021-06-11T06:31:43.501941",
     "exception": false,
     "start_time": "2021-06-11T06:31:43.455306",
     "status": "completed"
    },
    "tags": []
   },
   "source": [
    "# 1. Vấn đề bài toán: Quora Insincere Classification\n",
    "\n",
    "<div> \n",
    "      <li> Quora là nền tảng nổi tiếng nơi mọi người đặt cho nhau những câu hỏi để học hỏi thêm nhiều thứ. Tuy nhiên có những câu hỏi được đặt ra mang tính nhạy cảm cho người đọc. Ta phải phân loại ra những câu hỏi mang tính tiêu cực, không đúng đắn. </li>\n",
    "                <b> Input </b> Câu hỏi của Quora (dữ liệu text) <br>\n",
    "                <b>  Output: </b> Label Sincere (0), Insincere (1) <br>\n",
    "</div>\n"
   ]
  },
  {
   "cell_type": "code",
   "execution_count": 2,
   "id": "sharing-fleece",
   "metadata": {
    "execution": {
     "iopub.execute_input": "2021-06-11T06:31:43.600930Z",
     "iopub.status.busy": "2021-06-11T06:31:43.600277Z",
     "iopub.status.idle": "2021-06-11T06:31:49.761976Z",
     "shell.execute_reply": "2021-06-11T06:31:49.762441Z",
     "shell.execute_reply.started": "2021-06-11T06:18:26.626406Z"
    },
    "papermill": {
     "duration": 6.213133,
     "end_time": "2021-06-11T06:31:49.762642",
     "exception": false,
     "start_time": "2021-06-11T06:31:43.549509",
     "status": "completed"
    },
    "tags": []
   },
   "outputs": [],
   "source": [
    "train_data = pd.read_csv(\"/kaggle/input/quora-insincere-questions-classification/train.csv\")\n",
    "test_data = pd.read_csv(\"/kaggle/input/quora-insincere-questions-classification/test.csv\")"
   ]
  },
  {
   "cell_type": "markdown",
   "id": "unexpected-impossible",
   "metadata": {
    "papermill": {
     "duration": 0.047652,
     "end_time": "2021-06-11T06:31:49.857338",
     "exception": false,
     "start_time": "2021-06-11T06:31:49.809686",
     "status": "completed"
    },
    "tags": []
   },
   "source": [
    "## 1.1. Phân tích dữ liệu\n",
    "- Dữ liệu có thuộc tính `qid`, `question_text`, `target`\n",
    "- Khi phân loại, ta dùng thuộc tính `question_text` là đầu vào X, `target` là label y"
   ]
  },
  {
   "cell_type": "code",
   "execution_count": 3,
   "id": "working-atmosphere",
   "metadata": {
    "execution": {
     "iopub.execute_input": "2021-06-11T06:31:49.957384Z",
     "iopub.status.busy": "2021-06-11T06:31:49.956372Z",
     "iopub.status.idle": "2021-06-11T06:31:49.985069Z",
     "shell.execute_reply": "2021-06-11T06:31:49.984522Z",
     "shell.execute_reply.started": "2021-06-11T06:18:32.575962Z"
    },
    "papermill": {
     "duration": 0.078566,
     "end_time": "2021-06-11T06:31:49.985205",
     "exception": false,
     "start_time": "2021-06-11T06:31:49.906639",
     "status": "completed"
    },
    "tags": []
   },
   "outputs": [
    {
     "data": {
      "text/html": [
       "<div>\n",
       "<style scoped>\n",
       "    .dataframe tbody tr th:only-of-type {\n",
       "        vertical-align: middle;\n",
       "    }\n",
       "\n",
       "    .dataframe tbody tr th {\n",
       "        vertical-align: top;\n",
       "    }\n",
       "\n",
       "    .dataframe thead th {\n",
       "        text-align: right;\n",
       "    }\n",
       "</style>\n",
       "<table border=\"1\" class=\"dataframe\">\n",
       "  <thead>\n",
       "    <tr style=\"text-align: right;\">\n",
       "      <th></th>\n",
       "      <th>qid</th>\n",
       "      <th>question_text</th>\n",
       "      <th>target</th>\n",
       "    </tr>\n",
       "  </thead>\n",
       "  <tbody>\n",
       "    <tr>\n",
       "      <th>0</th>\n",
       "      <td>00002165364db923c7e6</td>\n",
       "      <td>How did Quebec nationalists see their province...</td>\n",
       "      <td>0</td>\n",
       "    </tr>\n",
       "    <tr>\n",
       "      <th>1</th>\n",
       "      <td>000032939017120e6e44</td>\n",
       "      <td>Do you have an adopted dog, how would you enco...</td>\n",
       "      <td>0</td>\n",
       "    </tr>\n",
       "    <tr>\n",
       "      <th>2</th>\n",
       "      <td>0000412ca6e4628ce2cf</td>\n",
       "      <td>Why does velocity affect time? Does velocity a...</td>\n",
       "      <td>0</td>\n",
       "    </tr>\n",
       "    <tr>\n",
       "      <th>3</th>\n",
       "      <td>000042bf85aa498cd78e</td>\n",
       "      <td>How did Otto von Guericke used the Magdeburg h...</td>\n",
       "      <td>0</td>\n",
       "    </tr>\n",
       "    <tr>\n",
       "      <th>4</th>\n",
       "      <td>0000455dfa3e01eae3af</td>\n",
       "      <td>Can I convert montra helicon D to a mountain b...</td>\n",
       "      <td>0</td>\n",
       "    </tr>\n",
       "    <tr>\n",
       "      <th>...</th>\n",
       "      <td>...</td>\n",
       "      <td>...</td>\n",
       "      <td>...</td>\n",
       "    </tr>\n",
       "    <tr>\n",
       "      <th>1306117</th>\n",
       "      <td>ffffcc4e2331aaf1e41e</td>\n",
       "      <td>What other technical skills do you need as a c...</td>\n",
       "      <td>0</td>\n",
       "    </tr>\n",
       "    <tr>\n",
       "      <th>1306118</th>\n",
       "      <td>ffffd431801e5a2f4861</td>\n",
       "      <td>Does MS in ECE have good job prospects in USA ...</td>\n",
       "      <td>0</td>\n",
       "    </tr>\n",
       "    <tr>\n",
       "      <th>1306119</th>\n",
       "      <td>ffffd48fb36b63db010c</td>\n",
       "      <td>Is foam insulation toxic?</td>\n",
       "      <td>0</td>\n",
       "    </tr>\n",
       "    <tr>\n",
       "      <th>1306120</th>\n",
       "      <td>ffffec519fa37cf60c78</td>\n",
       "      <td>How can one start a research project based on ...</td>\n",
       "      <td>0</td>\n",
       "    </tr>\n",
       "    <tr>\n",
       "      <th>1306121</th>\n",
       "      <td>ffffed09fedb5088744a</td>\n",
       "      <td>Who wins in a battle between a Wolverine and a...</td>\n",
       "      <td>0</td>\n",
       "    </tr>\n",
       "  </tbody>\n",
       "</table>\n",
       "<p>1306122 rows × 3 columns</p>\n",
       "</div>"
      ],
      "text/plain": [
       "                          qid  \\\n",
       "0        00002165364db923c7e6   \n",
       "1        000032939017120e6e44   \n",
       "2        0000412ca6e4628ce2cf   \n",
       "3        000042bf85aa498cd78e   \n",
       "4        0000455dfa3e01eae3af   \n",
       "...                       ...   \n",
       "1306117  ffffcc4e2331aaf1e41e   \n",
       "1306118  ffffd431801e5a2f4861   \n",
       "1306119  ffffd48fb36b63db010c   \n",
       "1306120  ffffec519fa37cf60c78   \n",
       "1306121  ffffed09fedb5088744a   \n",
       "\n",
       "                                             question_text  target  \n",
       "0        How did Quebec nationalists see their province...       0  \n",
       "1        Do you have an adopted dog, how would you enco...       0  \n",
       "2        Why does velocity affect time? Does velocity a...       0  \n",
       "3        How did Otto von Guericke used the Magdeburg h...       0  \n",
       "4        Can I convert montra helicon D to a mountain b...       0  \n",
       "...                                                    ...     ...  \n",
       "1306117  What other technical skills do you need as a c...       0  \n",
       "1306118  Does MS in ECE have good job prospects in USA ...       0  \n",
       "1306119                          Is foam insulation toxic?       0  \n",
       "1306120  How can one start a research project based on ...       0  \n",
       "1306121  Who wins in a battle between a Wolverine and a...       0  \n",
       "\n",
       "[1306122 rows x 3 columns]"
      ]
     },
     "execution_count": 3,
     "metadata": {},
     "output_type": "execute_result"
    }
   ],
   "source": [
    "train_data"
   ]
  },
  {
   "cell_type": "code",
   "execution_count": 4,
   "id": "exterior-philip",
   "metadata": {
    "execution": {
     "iopub.execute_input": "2021-06-11T06:31:50.089241Z",
     "iopub.status.busy": "2021-06-11T06:31:50.088307Z",
     "iopub.status.idle": "2021-06-11T06:31:50.367867Z",
     "shell.execute_reply": "2021-06-11T06:31:50.368345Z",
     "shell.execute_reply.started": "2021-06-11T06:18:32.607665Z"
    },
    "papermill": {
     "duration": 0.332761,
     "end_time": "2021-06-11T06:31:50.368543",
     "exception": false,
     "start_time": "2021-06-11T06:31:50.035782",
     "status": "completed"
    },
    "tags": []
   },
   "outputs": [
    {
     "name": "stdout",
     "output_type": "stream",
     "text": [
      "<class 'pandas.core.frame.DataFrame'>\n",
      "RangeIndex: 1306122 entries, 0 to 1306121\n",
      "Data columns (total 3 columns):\n",
      " #   Column         Non-Null Count    Dtype \n",
      "---  ------         --------------    ----- \n",
      " 0   qid            1306122 non-null  object\n",
      " 1   question_text  1306122 non-null  object\n",
      " 2   target         1306122 non-null  int64 \n",
      "dtypes: int64(1), object(2)\n",
      "memory usage: 29.9+ MB\n"
     ]
    }
   ],
   "source": [
    "train_data.info()"
   ]
  },
  {
   "cell_type": "markdown",
   "id": "august-aquatic",
   "metadata": {
    "papermill": {
     "duration": 0.0474,
     "end_time": "2021-06-11T06:31:50.463671",
     "exception": false,
     "start_time": "2021-06-11T06:31:50.416271",
     "status": "completed"
    },
    "tags": []
   },
   "source": [
    "<h3>Bỏ đi các dữ liệu NA, không tồn tại trong bảng. </h3>"
   ]
  },
  {
   "cell_type": "code",
   "execution_count": 5,
   "id": "concrete-backup",
   "metadata": {
    "execution": {
     "iopub.execute_input": "2021-06-11T06:31:50.817241Z",
     "iopub.status.busy": "2021-06-11T06:31:50.563992Z",
     "iopub.status.idle": "2021-06-11T06:31:50.969235Z",
     "shell.execute_reply": "2021-06-11T06:31:50.968751Z",
     "shell.execute_reply.started": "2021-06-11T06:18:32.868655Z"
    },
    "papermill": {
     "duration": 0.457986,
     "end_time": "2021-06-11T06:31:50.969372",
     "exception": false,
     "start_time": "2021-06-11T06:31:50.511386",
     "status": "completed"
    },
    "tags": []
   },
   "outputs": [
    {
     "data": {
      "text/html": [
       "<div>\n",
       "<style scoped>\n",
       "    .dataframe tbody tr th:only-of-type {\n",
       "        vertical-align: middle;\n",
       "    }\n",
       "\n",
       "    .dataframe tbody tr th {\n",
       "        vertical-align: top;\n",
       "    }\n",
       "\n",
       "    .dataframe thead th {\n",
       "        text-align: right;\n",
       "    }\n",
       "</style>\n",
       "<table border=\"1\" class=\"dataframe\">\n",
       "  <thead>\n",
       "    <tr style=\"text-align: right;\">\n",
       "      <th></th>\n",
       "      <th>qid</th>\n",
       "      <th>question_text</th>\n",
       "      <th>target</th>\n",
       "    </tr>\n",
       "  </thead>\n",
       "  <tbody>\n",
       "    <tr>\n",
       "      <th>0</th>\n",
       "      <td>00002165364db923c7e6</td>\n",
       "      <td>How did Quebec nationalists see their province...</td>\n",
       "      <td>0</td>\n",
       "    </tr>\n",
       "    <tr>\n",
       "      <th>1</th>\n",
       "      <td>000032939017120e6e44</td>\n",
       "      <td>Do you have an adopted dog, how would you enco...</td>\n",
       "      <td>0</td>\n",
       "    </tr>\n",
       "    <tr>\n",
       "      <th>2</th>\n",
       "      <td>0000412ca6e4628ce2cf</td>\n",
       "      <td>Why does velocity affect time? Does velocity a...</td>\n",
       "      <td>0</td>\n",
       "    </tr>\n",
       "    <tr>\n",
       "      <th>3</th>\n",
       "      <td>000042bf85aa498cd78e</td>\n",
       "      <td>How did Otto von Guericke used the Magdeburg h...</td>\n",
       "      <td>0</td>\n",
       "    </tr>\n",
       "    <tr>\n",
       "      <th>4</th>\n",
       "      <td>0000455dfa3e01eae3af</td>\n",
       "      <td>Can I convert montra helicon D to a mountain b...</td>\n",
       "      <td>0</td>\n",
       "    </tr>\n",
       "    <tr>\n",
       "      <th>...</th>\n",
       "      <td>...</td>\n",
       "      <td>...</td>\n",
       "      <td>...</td>\n",
       "    </tr>\n",
       "    <tr>\n",
       "      <th>1306117</th>\n",
       "      <td>ffffcc4e2331aaf1e41e</td>\n",
       "      <td>What other technical skills do you need as a c...</td>\n",
       "      <td>0</td>\n",
       "    </tr>\n",
       "    <tr>\n",
       "      <th>1306118</th>\n",
       "      <td>ffffd431801e5a2f4861</td>\n",
       "      <td>Does MS in ECE have good job prospects in USA ...</td>\n",
       "      <td>0</td>\n",
       "    </tr>\n",
       "    <tr>\n",
       "      <th>1306119</th>\n",
       "      <td>ffffd48fb36b63db010c</td>\n",
       "      <td>Is foam insulation toxic?</td>\n",
       "      <td>0</td>\n",
       "    </tr>\n",
       "    <tr>\n",
       "      <th>1306120</th>\n",
       "      <td>ffffec519fa37cf60c78</td>\n",
       "      <td>How can one start a research project based on ...</td>\n",
       "      <td>0</td>\n",
       "    </tr>\n",
       "    <tr>\n",
       "      <th>1306121</th>\n",
       "      <td>ffffed09fedb5088744a</td>\n",
       "      <td>Who wins in a battle between a Wolverine and a...</td>\n",
       "      <td>0</td>\n",
       "    </tr>\n",
       "  </tbody>\n",
       "</table>\n",
       "<p>1306122 rows × 3 columns</p>\n",
       "</div>"
      ],
      "text/plain": [
       "                          qid  \\\n",
       "0        00002165364db923c7e6   \n",
       "1        000032939017120e6e44   \n",
       "2        0000412ca6e4628ce2cf   \n",
       "3        000042bf85aa498cd78e   \n",
       "4        0000455dfa3e01eae3af   \n",
       "...                       ...   \n",
       "1306117  ffffcc4e2331aaf1e41e   \n",
       "1306118  ffffd431801e5a2f4861   \n",
       "1306119  ffffd48fb36b63db010c   \n",
       "1306120  ffffec519fa37cf60c78   \n",
       "1306121  ffffed09fedb5088744a   \n",
       "\n",
       "                                             question_text  target  \n",
       "0        How did Quebec nationalists see their province...       0  \n",
       "1        Do you have an adopted dog, how would you enco...       0  \n",
       "2        Why does velocity affect time? Does velocity a...       0  \n",
       "3        How did Otto von Guericke used the Magdeburg h...       0  \n",
       "4        Can I convert montra helicon D to a mountain b...       0  \n",
       "...                                                    ...     ...  \n",
       "1306117  What other technical skills do you need as a c...       0  \n",
       "1306118  Does MS in ECE have good job prospects in USA ...       0  \n",
       "1306119                          Is foam insulation toxic?       0  \n",
       "1306120  How can one start a research project based on ...       0  \n",
       "1306121  Who wins in a battle between a Wolverine and a...       0  \n",
       "\n",
       "[1306122 rows x 3 columns]"
      ]
     },
     "execution_count": 5,
     "metadata": {},
     "output_type": "execute_result"
    }
   ],
   "source": [
    "train_data.dropna(inplace = True)\n",
    "train_data"
   ]
  },
  {
   "cell_type": "markdown",
   "id": "sexual-tract",
   "metadata": {
    "papermill": {
     "duration": 0.048107,
     "end_time": "2021-06-11T06:31:51.066286",
     "exception": false,
     "start_time": "2021-06-11T06:31:51.018179",
     "status": "completed"
    },
    "tags": []
   },
   "source": [
    "<h3> => Từ dữ liệu được cho, ta thấy: </h3>\n",
    "\n",
    " - 1306122 câu hỏi `question_text` chứa giá trị text data.\n",
    " - 1306122 label `target` chứa giá trị 0, 1.\n",
    " - Dữ liệu không chứa giá trị ***NA***\n",
    " \n",
    "<h4> => Giờ ta sẽ xem sự khác biệt giữa dữ liệu label 1, 0 </h4>\n"
   ]
  },
  {
   "cell_type": "code",
   "execution_count": 6,
   "id": "floral-clothing",
   "metadata": {
    "execution": {
     "iopub.execute_input": "2021-06-11T06:31:51.168722Z",
     "iopub.status.busy": "2021-06-11T06:31:51.168090Z",
     "iopub.status.idle": "2021-06-11T06:31:51.252824Z",
     "shell.execute_reply": "2021-06-11T06:31:51.252119Z",
     "shell.execute_reply.started": "2021-06-11T06:18:33.253545Z"
    },
    "papermill": {
     "duration": 0.137914,
     "end_time": "2021-06-11T06:31:51.252962",
     "exception": false,
     "start_time": "2021-06-11T06:31:51.115048",
     "status": "completed"
    },
    "tags": []
   },
   "outputs": [],
   "source": [
    "toxic_data = train_data[train_data.target == 1]\n",
    "non_toxic_data = train_data[train_data.target == 0]"
   ]
  },
  {
   "cell_type": "markdown",
   "id": "sudden-australian",
   "metadata": {
    "papermill": {
     "duration": 0.048432,
     "end_time": "2021-06-11T06:31:51.350028",
     "exception": false,
     "start_time": "2021-06-11T06:31:51.301596",
     "status": "completed"
    },
    "tags": []
   },
   "source": [
    "### Những câu hỏi Sincere của Quora ( label `target` có giá trị 0 )"
   ]
  },
  {
   "cell_type": "code",
   "execution_count": 7,
   "id": "cooperative-relations",
   "metadata": {
    "execution": {
     "iopub.execute_input": "2021-06-11T06:31:51.453222Z",
     "iopub.status.busy": "2021-06-11T06:31:51.452541Z",
     "iopub.status.idle": "2021-06-11T06:31:51.497942Z",
     "shell.execute_reply": "2021-06-11T06:31:51.498437Z",
     "shell.execute_reply.started": "2021-06-11T06:18:33.342684Z"
    },
    "papermill": {
     "duration": 0.099438,
     "end_time": "2021-06-11T06:31:51.498654",
     "exception": false,
     "start_time": "2021-06-11T06:31:51.399216",
     "status": "completed"
    },
    "tags": []
   },
   "outputs": [
    {
     "name": "stdout",
     "output_type": "stream",
     "text": [
      "Can a person with a good childhood & parents become a psychopath?\n",
      "What is the name of the Irish jig playing during the wedding scene in \"Harry Potter and the Deathly Hallows Part 1\"?\n",
      "Why did shields have a point on the bottom?\n",
      "Do Italians regret the fall of the Roman Empire?\n",
      "What is the number one skill to learn when it comes to photography?\n",
      "How can I get AIR ranks in JEE?\n",
      "Why is there so little storage on my phone? What can I do about it?\n",
      "What is the measurable effect of a faulty ATM on security in Somalia?\n",
      "What is the most stupid thing that Donald Trump has ever done?\n",
      "Why is growth so important for fictional characters since in real life so many people just do not grow whatever happens?\n"
     ]
    }
   ],
   "source": [
    "for d in non_toxic_data.question_text.sample(10):\n",
    "  print(d)"
   ]
  },
  {
   "cell_type": "markdown",
   "id": "legitimate-drama",
   "metadata": {
    "papermill": {
     "duration": 0.048904,
     "end_time": "2021-06-11T06:31:51.596807",
     "exception": false,
     "start_time": "2021-06-11T06:31:51.547903",
     "status": "completed"
    },
    "tags": []
   },
   "source": [
    "### Những câu hỏi Insincere của Quora ( label `target` có giá trị 1 )"
   ]
  },
  {
   "cell_type": "code",
   "execution_count": 8,
   "id": "herbal-better",
   "metadata": {
    "execution": {
     "iopub.execute_input": "2021-06-11T06:31:51.702630Z",
     "iopub.status.busy": "2021-06-11T06:31:51.701599Z",
     "iopub.status.idle": "2021-06-11T06:31:51.706671Z",
     "shell.execute_reply": "2021-06-11T06:31:51.706018Z",
     "shell.execute_reply.started": "2021-06-11T06:18:33.397033Z"
    },
    "papermill": {
     "duration": 0.06107,
     "end_time": "2021-06-11T06:31:51.706816",
     "exception": false,
     "start_time": "2021-06-11T06:31:51.645746",
     "status": "completed"
    },
    "tags": []
   },
   "outputs": [
    {
     "name": "stdout",
     "output_type": "stream",
     "text": [
      "Why is Nancy Pelosi only worried about Hispanics and not other races, is her job only to stand by illegal Hispanics to get votes?\n",
      "Is Donald Trump the fattest person ever to become President of the USA?\n",
      "Why have Shias corrupted the Shahada?\n",
      "Is it safe to leave my 3years old Daughter with 6 of my black friends?\n",
      "If Tim Kaine is personally pro-life, does that mean he approves of the murder of children if democrat voters want it committed? Does Hillary have similar feelings?\n",
      "Why do most women have a hard time acknowledging any benefits of a polygamist family, regardless of their opinion of the practice?\n",
      "Why would Prince Edward tried to be a Royal Marine rather than something easier? His failing the training must have been a huge embarrassment.\n",
      "Is Billy Joel morbidly obese these days?\n",
      "Are Wives slaves that worship their husbands in Islam?\n",
      "This is question to all females on Quora. Are you happy with size and shape of your boobs? If not, how would you like them to be.\n"
     ]
    }
   ],
   "source": [
    "for d in toxic_data.question_text.sample(10):\n",
    "  print(d)"
   ]
  },
  {
   "cell_type": "markdown",
   "id": "unable-master",
   "metadata": {
    "papermill": {
     "duration": 0.049009,
     "end_time": "2021-06-11T06:31:51.805275",
     "exception": false,
     "start_time": "2021-06-11T06:31:51.756266",
     "status": "completed"
    },
    "tags": []
   },
   "source": [
    "## 1.2. Nhận xét về dữ liệu "
   ]
  },
  {
   "cell_type": "code",
   "execution_count": 9,
   "id": "sweet-display",
   "metadata": {
    "execution": {
     "iopub.execute_input": "2021-06-11T06:31:51.909884Z",
     "iopub.status.busy": "2021-06-11T06:31:51.909219Z",
     "iopub.status.idle": "2021-06-11T06:31:52.999683Z",
     "shell.execute_reply": "2021-06-11T06:31:52.998687Z",
     "shell.execute_reply.started": "2021-06-11T06:18:33.408525Z"
    },
    "papermill": {
     "duration": 1.145134,
     "end_time": "2021-06-11T06:31:52.999833",
     "exception": false,
     "start_time": "2021-06-11T06:31:51.854699",
     "status": "completed"
    },
    "tags": []
   },
   "outputs": [
    {
     "name": "stdout",
     "output_type": "stream",
     "text": [
      "(80810, 3) (1225312, 3)\n",
      "--------------------------\n"
     ]
    },
    {
     "data": {
      "text/plain": [
       "<AxesSubplot:xlabel='target', ylabel='count'>"
      ]
     },
     "execution_count": 9,
     "metadata": {},
     "output_type": "execute_result"
    },
    {
     "data": {
      "image/png": "[encoded data removed]",
      "text/plain": [
       "<Figure size 432x288 with 1 Axes>"
      ]
     },
     "metadata": {
      "needs_background": "light"
     },
     "output_type": "display_data"
    }
   ],
   "source": [
    "import matplotlib.pyplot as plt\n",
    "import pandas as pd\n",
    "import seaborn as sns\n",
    "\n",
    "print(toxic_data.shape, non_toxic_data.shape)\n",
    "print(\"--------------------------\")\n",
    "\n",
    "sns.countplot(x='target', data=train_data)"
   ]
  },
  {
   "cell_type": "markdown",
   "id": "conservative-actress",
   "metadata": {
    "papermill": {
     "duration": 0.051487,
     "end_time": "2021-06-11T06:31:53.101814",
     "exception": false,
     "start_time": "2021-06-11T06:31:53.050327",
     "status": "completed"
    },
    "tags": []
   },
   "source": [
    "<h3> Hình 1 - Bảng đếm số lượng dữ liệu label 0 và label 1 </h3>"
   ]
  },
  {
   "cell_type": "code",
   "execution_count": 10,
   "id": "biblical-resource",
   "metadata": {
    "execution": {
     "iopub.execute_input": "2021-06-11T06:31:53.212000Z",
     "iopub.status.busy": "2021-06-11T06:31:53.210993Z",
     "iopub.status.idle": "2021-06-11T06:31:53.215417Z",
     "shell.execute_reply": "2021-06-11T06:31:53.214918Z",
     "shell.execute_reply.started": "2021-06-11T06:18:34.466587Z"
    },
    "papermill": {
     "duration": 0.062308,
     "end_time": "2021-06-11T06:31:53.215566",
     "exception": false,
     "start_time": "2021-06-11T06:31:53.153258",
     "status": "completed"
    },
    "tags": []
   },
   "outputs": [
    {
     "name": "stdout",
     "output_type": "stream",
     "text": [
      "Dữ liệu Insincere chiếm 0.06187017751787352\n",
      "Dữ liệu Sincere chiếm 0.9381298224821265\n"
     ]
    }
   ],
   "source": [
    " print( \"Dữ liệu Insincere chiếm\", toxic_data.shape[0] / train_data.shape[0])\n",
    " print( \"Dữ liệu Sincere chiếm\", non_toxic_data.shape[0] / train_data.shape[0])"
   ]
  },
  {
   "attachments": {
    "2c6a09f6-82c2-47dd-8950-57b9bf735223.png": {
     "image/png": "[encoded data removed]"
    }
   },
   "cell_type": "markdown",
   "id": "rolled-primary",
   "metadata": {
    "papermill": {
     "duration": 0.050453,
     "end_time": "2021-06-11T06:31:53.317497",
     "exception": false,
     "start_time": "2021-06-11T06:31:53.267044",
     "status": "completed"
    },
    "tags": []
   },
   "source": [
    "## Vấn đề \n",
    "Trong dữ liệu train, có 80810 dữ liệu `insincere` <b> (label 1) </b>, 1225312 dữ liệu `sincere` <b>(label 0)</b>. \n",
    "- Ở đây ta thấy dữ liệu `insincere` chỉ chiếm tỉ lệ 0.062\n",
    "- Còn so với dữ liệu `sincere` chiếm tỉ lệ 0.94 => Dữ liệu mất cân bằng\n",
    "\n",
    "![image.png](attachment:2c6a09f6-82c2-47dd-8950-57b9bf735223.png)\n",
    "\n",
    "<h3> => Độ đo sử dụng là F1-Score </h3>\n"
   ]
  },
  {
   "cell_type": "markdown",
   "id": "fourth-championship",
   "metadata": {
    "papermill": {
     "duration": 0.050791,
     "end_time": "2021-06-11T06:31:53.419277",
     "exception": false,
     "start_time": "2021-06-11T06:31:53.368486",
     "status": "completed"
    },
    "tags": []
   },
   "source": [
    "# 2. Đề xuất hướng làm\n",
    "- <b> Tiền xử lý dữ liệu </b> (Bỏ dấu, chữ số, từ dừng, rút gọn, tách từ) <br>\n",
    "  Unicode: Chuyển về dạng unicode <br>\n",
    "  Lowercase : Chuyển về dạng in thường. <br>\n",
    "  Punctuation, Remove Number: Bỏ dấu, chữ số. <br>\n",
    "  Tokenize, Stopwords: Tách từ, Các từ dừng. <br>\n",
    "  Lemmatizers: Rút gọn từ về dạng ngắn gọn.<br>\n",
    "\n",
    "=> Loại bỏ các từ không ý nghĩa, giúp ta xác định được các từ cần thiết để phân loại từ đó thuộc Label 1 hay 0. \n",
    "\n",
    "- <b> Trích xuất dữ liệu </b>   \n",
    "Sử dụng `CountVectorizer` để trích xuất các từ, biến words thành dạng vectors ở dạng `Bag-of-Words` bằng cách đếm số lần xuất hiện của các từ trong bộ dữ liệu.\n",
    "\n",
    "- <b> Huấn luyện mô hình </b>  \n",
    "Áp dụng mô hình học máy `Logistic Regression`, `LinearSVC` để huấn luyện, dự đoán.\n",
    "Sử dụng `OverSampling` thử xem kết quả như thế nào với mô hình trên.\n",
    "\n"
   ]
  },
  {
   "cell_type": "markdown",
   "id": "embedded-accident",
   "metadata": {
    "papermill": {
     "duration": 0.05054,
     "end_time": "2021-06-11T06:31:53.521033",
     "exception": false,
     "start_time": "2021-06-11T06:31:53.470493",
     "status": "completed"
    },
    "tags": []
   },
   "source": [
    "## 2.1. Tiền xử lý\n",
    "\n",
    "Code ở đây em tải về bộ từ điển định nghĩa sẵn trong NLTK  "
   ]
  },
  {
   "cell_type": "code",
   "execution_count": 11,
   "id": "quality-google",
   "metadata": {
    "execution": {
     "iopub.execute_input": "2021-06-11T06:31:53.641978Z",
     "iopub.status.busy": "2021-06-11T06:31:53.641018Z",
     "iopub.status.idle": "2021-06-11T06:32:54.654078Z",
     "shell.execute_reply": "2021-06-11T06:32:54.654742Z",
     "shell.execute_reply.started": "2021-06-10T16:24:54.76524Z"
    },
    "papermill": {
     "duration": 61.082935,
     "end_time": "2021-06-11T06:32:54.654988",
     "exception": false,
     "start_time": "2021-06-11T06:31:53.572053",
     "status": "completed"
    },
    "tags": []
   },
   "outputs": [
    {
     "name": "stdout",
     "output_type": "stream",
     "text": [
      "[nltk_data] Error loading stopwords: <urlopen error [Errno -3]\n",
      "[nltk_data]     Temporary failure in name resolution>\n",
      "[nltk_data] Error loading punkt: <urlopen error [Errno -3] Temporary\n",
      "[nltk_data]     failure in name resolution>\n",
      "[nltk_data] Error loading wordnet: <urlopen error [Errno -3] Temporary\n",
      "[nltk_data]     failure in name resolution>\n"
     ]
    }
   ],
   "source": [
    "import re\n",
    "import nltk\n",
    "import string\n",
    "from unidecode import unidecode\n",
    "from nltk.tokenize import word_tokenize\n",
    "from nltk.corpus import stopwords\n",
    "from nltk.stem import PorterStemmer, WordNetLemmatizer\n",
    "\n",
    "contraction_dict = {\"dont\": \"do not\", \"aint\": \"is not\", \"isnt\": \"is not\", \"doesnt\": \"does not\"\n",
    ", \"cant\": \"cannot\", \"mustnt\": \"must not\", \"ll\":\"will\" , \"re\": \"are\" ,\"ll\": \"will\", \"wont\": \"will not\" ,\"hasnt\": \"has not\"\n",
    ", \"havent\": \"have not\", \"arent\": \"are not\", \"ain't\": \"is not\", \"aren't\": \"are not\"\n",
    ",\"can't\": \"cannot\", \"‘cause\": \"because\", \"could've\": \"could have\"\n",
    ", \"couldn't\": \"could not\", \"didn't\": \"did not\", \"doesn't\": \"does not\", \"don't\": \"do not\"\n",
    ", \"hadn't\": \"had not\", \"hasn't\": \"has not\", \"haven't\": \"have not\", \"he'd\": \"he would\"\n",
    ",\"he'll\": \"he will\", \"he's\": \"he is\", \"how'd\": \"how did\", \"how'd'y\": \"how do you\"\n",
    ", \"how'll\": \"how will\", \"how's\": \"how is\", \"I'd\": \"I would\", \"I'd've\": \"I would have\"\n",
    ", \"I'll\": \"I will\", \"I'll've\": \"I will have\",\"I'm\": \"I am\", \"Iam\": \"I am\", \"I've\": \"I have\"\n",
    ", \"i'd\": \"i would\", \"i'd've\": \"i would have\", \"i'll\": \"i will\", \"i'll've\": \"i will have\"\n",
    ",\"i'm\": \"i am\", \"i've\": \"i have\", \"isn't\": \"is not\", \"it'd\": \"it would\", \"it'd've\": \"it would have\"\n",
    ", \"it'll\": \"it will\", \"it'll've\": \"it will have\",\"it's\": \"it is\", \"let's\": \"let us\"\n",
    ", \"ma'am\": \"madam\", \"mayn't\": \"may not\", \"might've\": \"might have\"\n",
    ",\"mightn't\": \"might not\",\"mightn't've\": \"might not have\", \"must've\": \"must have\"\n",
    ", \"mustn't\": \"must not\", \"mustn't've\": \"must not have\", \"needn't\": \"need not\"\n",
    ", \"needn't've\": \"need not have\",\"o'clock\": \"of the clock\", \"oughtn't\": \"ought not\"\n",
    ", \"oughtn't've\": \"ought not have\", \"shan't\": \"shall not\", \"sha'n't\": \"shall not\"\n",
    ", \"shan't've\": \"shall not have\", \"she'd\": \"she would\", \"she'd've\": \"she would have\"\n",
    ", \"she'll\": \"she will\", \"she'll've\": \"she will have\", \"she's\": \"she is\"\n",
    ", \"should've\": \"should have\", \"shouldn't\": \"should not\", \"shouldn't've\": \"should not have\"\n",
    ", \"so've\": \"so have\",\"so's\": \"so as\", \"this's\": \"this is\",\"that'd\": \"that would\", \n",
    "\"that'd've\": \"that would have\", \"that's\": \"that is\", \"there'd\": \"there would\", \n",
    "\"there'd've\": \"there would have\", \"there's\": \"there is\", \"here's\": \"here is\",\"they'd\": \"they would\"\n",
    ", \"they'd've\": \"they would have\", \"they'll\": \"they will\", \"they'll've\": \"they will have\", \n",
    "\"they're\": \"they are\", \"they've\": \"they have\", \"to've\": \"to have\", \"wasn't\": \"was not\",\n",
    "\"we'd\": \"we would\", \"we'd've\": \"we would have\", \"we'll\": \"we will\", \n",
    "\"we'll've\": \"we will have\", \"we're\": \"we are\", \"we've\": \"we have\", \n",
    "\"weren't\": \"were not\", \"what'll\": \"what will\", \"what'll've\": \"what will have\", \n",
    "\"what're\": \"what are\", \"what's\": \"what is\", \"what've\": \"what have\", \"when's\": \"when is\",\n",
    "\"when've\": \"when have\", \"where'd\": \"where did\", \"where's\": \"where is\", \"where've\": \"where have\", \n",
    "\"who'll\": \"who will\", \"who'll've\": \"who will have\", \"who's\": \"who is\", \"who've\": \"who have\",\n",
    "\"why's\": \"why is\", \"why've\": \"why have\", \"will've\": \"will have\", \"won't\": \"will not\", \"won't've\": \"will not have\",\n",
    "\"would've\": \"would have\", \"wouldn't\": \"would not\", \"wouldn't've\": \"would not have\", \"y'all\": \"you all\", \n",
    "\"y'all'd\": \"you all would\",\"y'all'd've\": \"you all would have\",\"y'all're\": \"you all are\",\n",
    "\"y'all've\": \"you all have\", \"you'd\": \"you would\", \"you'd've\": \"you would have\", \n",
    "\"you'll\": \"you will\", \"youll\":\"you will\", \"you'll've\": \"you will have\", \"you're\": \"you are\", \"you've\": \"you have\"}\n",
    "\n",
    "\n",
    "nltk.download('stopwords')\n",
    "nltk.download('punkt')\n",
    "nltk.download('wordnet')\n",
    "nltk_stopwords = stopwords.words('english')\n",
    "\n",
    "nltk_stopwords.remove('not')\n",
    "\n",
    "stemmer = PorterStemmer()\n",
    "lemmatizer = WordNetLemmatizer()"
   ]
  },
  {
   "cell_type": "markdown",
   "id": "referenced-million",
   "metadata": {
    "papermill": {
     "duration": 0.051266,
     "end_time": "2021-06-11T06:32:54.758805",
     "exception": false,
     "start_time": "2021-06-11T06:32:54.707539",
     "status": "completed"
    },
    "tags": []
   },
   "source": [
    "Định nghĩa hàm `clean()` để tiền xử lý các dữ liệu theo các bước đã nêu ở trên"
   ]
  },
  {
   "cell_type": "code",
   "execution_count": 12,
   "id": "related-latex",
   "metadata": {
    "execution": {
     "iopub.execute_input": "2021-06-11T06:32:54.873761Z",
     "iopub.status.busy": "2021-06-11T06:32:54.873059Z",
     "iopub.status.idle": "2021-06-11T06:32:54.876286Z",
     "shell.execute_reply": "2021-06-11T06:32:54.875586Z",
     "shell.execute_reply.started": "2021-06-10T16:25:54.883402Z"
    },
    "papermill": {
     "duration": 0.066025,
     "end_time": "2021-06-11T06:32:54.876433",
     "exception": false,
     "start_time": "2021-06-11T06:32:54.810408",
     "status": "completed"
    },
    "tags": []
   },
   "outputs": [],
   "source": [
    "def clean(text):        \n",
    "    # chuyển từ về dạng unicode \n",
    "    text = unidecode(text).encode(\"ascii\")\n",
    "    text = str(text, \"ascii\")\n",
    "\n",
    "    # chuyển về dạng chữ thường, bỏ các link, kí tự đặc biệt, chữ số.\n",
    "    text = text.lower()\n",
    "    text = re.sub('https?://\\S+|www\\.\\S+', '', text)\n",
    "    text = re.sub('<.*?>+', '', text)\n",
    "    text = re.sub('[%s]' % re.escape(string.punctuation), '', text)  \n",
    "    text = re.sub('\\n', '', text)\n",
    "    text = re.sub('[’“”…]', ' ', text)  \n",
    "    text = ''.join(i for i in text if not i.isdigit())\n",
    "\n",
    "    # Chuyển các từ viết tắt trong từ điển về dạng thường\n",
    "    tokens = word_tokenize(text)\n",
    "    tokens = [contraction_dict.get(token) if (contraction_dict.get(token) != None) else token for token in tokens]\n",
    "    text = \" \".join(tokens)\n",
    "\n",
    "    # Bỏ các từ chứa ở trong stop-words   \n",
    "    tokens = word_tokenize(text)\n",
    "    tokens_without_sw = [word for word in tokens if not word in nltk_stopwords]\n",
    "\n",
    "    # Chuyển từ về dạng số nhiều về dạng thường\n",
    "    text = [lemmatizer.lemmatize(word) for word in tokens_without_sw ] \n",
    "    text = \" \".join(text)\n",
    "\n",
    "    return text\n"
   ]
  },
  {
   "cell_type": "code",
   "execution_count": 13,
   "id": "instructional-danger",
   "metadata": {
    "execution": {
     "iopub.execute_input": "2021-06-11T06:32:54.985491Z",
     "iopub.status.busy": "2021-06-11T06:32:54.984785Z",
     "iopub.status.idle": "2021-06-11T06:32:57.073746Z",
     "shell.execute_reply": "2021-06-11T06:32:57.074262Z",
     "shell.execute_reply.started": "2021-06-10T16:25:54.89405Z"
    },
    "papermill": {
     "duration": 2.145876,
     "end_time": "2021-06-11T06:32:57.074443",
     "exception": false,
     "start_time": "2021-06-11T06:32:54.928567",
     "status": "completed"
    },
    "tags": []
   },
   "outputs": [
    {
     "name": "stdout",
     "output_type": "stream",
     "text": [
      "aeoeae theyre not mean chinese take taking taked\n"
     ]
    }
   ],
   "source": [
    "word = clean(\"æœ‰æ¯’ they're you'll aren't mean in chinese takes taking taked\")\n",
    "print(word)"
   ]
  },
  {
   "cell_type": "code",
   "execution_count": 14,
   "id": "defined-agriculture",
   "metadata": {
    "execution": {
     "iopub.execute_input": "2021-06-11T06:32:57.212680Z",
     "iopub.status.busy": "2021-06-11T06:32:57.211977Z",
     "iopub.status.idle": "2021-06-11T06:43:02.391833Z",
     "shell.execute_reply": "2021-06-11T06:43:02.392337Z",
     "shell.execute_reply.started": "2021-06-10T16:25:54.915957Z"
    },
    "papermill": {
     "duration": 605.265639,
     "end_time": "2021-06-11T06:43:02.392514",
     "exception": false,
     "start_time": "2021-06-11T06:32:57.126875",
     "status": "completed"
    },
    "tags": []
   },
   "outputs": [
    {
     "data": {
      "text/html": [
       "<div>\n",
       "<style scoped>\n",
       "    .dataframe tbody tr th:only-of-type {\n",
       "        vertical-align: middle;\n",
       "    }\n",
       "\n",
       "    .dataframe tbody tr th {\n",
       "        vertical-align: top;\n",
       "    }\n",
       "\n",
       "    .dataframe thead th {\n",
       "        text-align: right;\n",
       "    }\n",
       "</style>\n",
       "<table border=\"1\" class=\"dataframe\">\n",
       "  <thead>\n",
       "    <tr style=\"text-align: right;\">\n",
       "      <th></th>\n",
       "      <th>qid</th>\n",
       "      <th>question_text</th>\n",
       "      <th>target</th>\n",
       "      <th>clean_questions</th>\n",
       "    </tr>\n",
       "  </thead>\n",
       "  <tbody>\n",
       "    <tr>\n",
       "      <th>0</th>\n",
       "      <td>00002165364db923c7e6</td>\n",
       "      <td>How did Quebec nationalists see their province...</td>\n",
       "      <td>0</td>\n",
       "      <td>quebec nationalist see province nation</td>\n",
       "    </tr>\n",
       "    <tr>\n",
       "      <th>1</th>\n",
       "      <td>000032939017120e6e44</td>\n",
       "      <td>Do you have an adopted dog, how would you enco...</td>\n",
       "      <td>0</td>\n",
       "      <td>adopted dog would encourage people adopt not shop</td>\n",
       "    </tr>\n",
       "    <tr>\n",
       "      <th>2</th>\n",
       "      <td>0000412ca6e4628ce2cf</td>\n",
       "      <td>Why does velocity affect time? Does velocity a...</td>\n",
       "      <td>0</td>\n",
       "      <td>velocity affect time velocity affect space geo...</td>\n",
       "    </tr>\n",
       "    <tr>\n",
       "      <th>3</th>\n",
       "      <td>000042bf85aa498cd78e</td>\n",
       "      <td>How did Otto von Guericke used the Magdeburg h...</td>\n",
       "      <td>0</td>\n",
       "      <td>otto von guericke used magdeburg hemisphere</td>\n",
       "    </tr>\n",
       "    <tr>\n",
       "      <th>4</th>\n",
       "      <td>0000455dfa3e01eae3af</td>\n",
       "      <td>Can I convert montra helicon D to a mountain b...</td>\n",
       "      <td>0</td>\n",
       "      <td>convert montra helicon mountain bike changing ...</td>\n",
       "    </tr>\n",
       "    <tr>\n",
       "      <th>...</th>\n",
       "      <td>...</td>\n",
       "      <td>...</td>\n",
       "      <td>...</td>\n",
       "      <td>...</td>\n",
       "    </tr>\n",
       "    <tr>\n",
       "      <th>1306117</th>\n",
       "      <td>ffffcc4e2331aaf1e41e</td>\n",
       "      <td>What other technical skills do you need as a c...</td>\n",
       "      <td>0</td>\n",
       "      <td>technical skill need computer science undergra...</td>\n",
       "    </tr>\n",
       "    <tr>\n",
       "      <th>1306118</th>\n",
       "      <td>ffffd431801e5a2f4861</td>\n",
       "      <td>Does MS in ECE have good job prospects in USA ...</td>\n",
       "      <td>0</td>\n",
       "      <td>m ece good job prospect usa like india job pre...</td>\n",
       "    </tr>\n",
       "    <tr>\n",
       "      <th>1306119</th>\n",
       "      <td>ffffd48fb36b63db010c</td>\n",
       "      <td>Is foam insulation toxic?</td>\n",
       "      <td>0</td>\n",
       "      <td>foam insulation toxic</td>\n",
       "    </tr>\n",
       "    <tr>\n",
       "      <th>1306120</th>\n",
       "      <td>ffffec519fa37cf60c78</td>\n",
       "      <td>How can one start a research project based on ...</td>\n",
       "      <td>0</td>\n",
       "      <td>one start research project based biochemistry ...</td>\n",
       "    </tr>\n",
       "    <tr>\n",
       "      <th>1306121</th>\n",
       "      <td>ffffed09fedb5088744a</td>\n",
       "      <td>Who wins in a battle between a Wolverine and a...</td>\n",
       "      <td>0</td>\n",
       "      <td>win battle wolverine puma</td>\n",
       "    </tr>\n",
       "  </tbody>\n",
       "</table>\n",
       "<p>1306122 rows × 4 columns</p>\n",
       "</div>"
      ],
      "text/plain": [
       "                          qid  \\\n",
       "0        00002165364db923c7e6   \n",
       "1        000032939017120e6e44   \n",
       "2        0000412ca6e4628ce2cf   \n",
       "3        000042bf85aa498cd78e   \n",
       "4        0000455dfa3e01eae3af   \n",
       "...                       ...   \n",
       "1306117  ffffcc4e2331aaf1e41e   \n",
       "1306118  ffffd431801e5a2f4861   \n",
       "1306119  ffffd48fb36b63db010c   \n",
       "1306120  ffffec519fa37cf60c78   \n",
       "1306121  ffffed09fedb5088744a   \n",
       "\n",
       "                                             question_text  target  \\\n",
       "0        How did Quebec nationalists see their province...       0   \n",
       "1        Do you have an adopted dog, how would you enco...       0   \n",
       "2        Why does velocity affect time? Does velocity a...       0   \n",
       "3        How did Otto von Guericke used the Magdeburg h...       0   \n",
       "4        Can I convert montra helicon D to a mountain b...       0   \n",
       "...                                                    ...     ...   \n",
       "1306117  What other technical skills do you need as a c...       0   \n",
       "1306118  Does MS in ECE have good job prospects in USA ...       0   \n",
       "1306119                          Is foam insulation toxic?       0   \n",
       "1306120  How can one start a research project based on ...       0   \n",
       "1306121  Who wins in a battle between a Wolverine and a...       0   \n",
       "\n",
       "                                           clean_questions  \n",
       "0                   quebec nationalist see province nation  \n",
       "1        adopted dog would encourage people adopt not shop  \n",
       "2        velocity affect time velocity affect space geo...  \n",
       "3              otto von guericke used magdeburg hemisphere  \n",
       "4        convert montra helicon mountain bike changing ...  \n",
       "...                                                    ...  \n",
       "1306117  technical skill need computer science undergra...  \n",
       "1306118  m ece good job prospect usa like india job pre...  \n",
       "1306119                              foam insulation toxic  \n",
       "1306120  one start research project based biochemistry ...  \n",
       "1306121                          win battle wolverine puma  \n",
       "\n",
       "[1306122 rows x 4 columns]"
      ]
     },
     "execution_count": 14,
     "metadata": {},
     "output_type": "execute_result"
    }
   ],
   "source": [
    "train_data['clean_questions'] = train_data['question_text'].apply(clean)\n",
    "train_data"
   ]
  },
  {
   "cell_type": "code",
   "execution_count": 15,
   "id": "lovely-exploration",
   "metadata": {
    "execution": {
     "iopub.execute_input": "2021-06-11T06:43:02.504579Z",
     "iopub.status.busy": "2021-06-11T06:43:02.503923Z",
     "iopub.status.idle": "2021-06-11T06:43:02.506713Z",
     "shell.execute_reply": "2021-06-11T06:43:02.507145Z",
     "shell.execute_reply.started": "2021-06-10T16:36:03.704693Z"
    },
    "papermill": {
     "duration": 0.061427,
     "end_time": "2021-06-11T06:43:02.507314",
     "exception": false,
     "start_time": "2021-06-11T06:43:02.445887",
     "status": "completed"
    },
    "tags": []
   },
   "outputs": [
    {
     "data": {
      "text/plain": [
       "((1306122,), (1306122,))"
      ]
     },
     "execution_count": 15,
     "metadata": {},
     "output_type": "execute_result"
    }
   ],
   "source": [
    "X = train_data['clean_questions']\n",
    "y = train_data['target']\n",
    "\n",
    "X.shape,y.shape"
   ]
  },
  {
   "cell_type": "code",
   "execution_count": 16,
   "id": "delayed-earth",
   "metadata": {
    "execution": {
     "iopub.execute_input": "2021-06-11T06:43:02.617194Z",
     "iopub.status.busy": "2021-06-11T06:43:02.616554Z",
     "iopub.status.idle": "2021-06-11T06:43:02.690222Z",
     "shell.execute_reply": "2021-06-11T06:43:02.689634Z",
     "shell.execute_reply.started": "2021-06-10T16:36:03.730155Z"
    },
    "papermill": {
     "duration": 0.129316,
     "end_time": "2021-06-11T06:43:02.690356",
     "exception": false,
     "start_time": "2021-06-11T06:43:02.561040",
     "status": "completed"
    },
    "tags": []
   },
   "outputs": [
    {
     "name": "stdout",
     "output_type": "stream",
     "text": [
      "Dữ liệu Label 0 (Tiền xử lý):\n",
      "  0               quebec nationalist see province nation\n",
      "1    adopted dog would encourage people adopt not shop\n",
      "2    velocity affect time velocity affect space geo...\n",
      "3          otto von guericke used magdeburg hemisphere\n",
      "4    convert montra helicon mountain bike changing ...\n",
      "5    gaza slowly becoming auschwitz dachau treblink...\n",
      "6    quora automatically ban conservative opinion r...\n",
      "7              crazy wash wipe grocery germ everywhere\n",
      "8    thing dressing moderately different dressing m...\n",
      "9    ever phase wherein became ignorant people love...\n",
      "Name: clean_questions, dtype: object\n",
      "\n",
      "---------------------------\n",
      "\n",
      "Dữ liệu Label 1 (Tiền xử lý):\n",
      "  22        united state become largest dictatorship world\n",
      "30     baby sweeter parent dark skin baby light skin ...\n",
      "110    black support school choice mandatory sentenci...\n",
      "114    gay boy love cousin boy sexy not know hot want...\n",
      "115                                  race smallest penis\n",
      "119                               female find penis ugly\n",
      "127          marry american woman green card much charge\n",
      "144    european say theyre superior race fact took ye...\n",
      "156    julius caesar bring tyrannosaurus rex campaign...\n",
      "167    manner republican backing state right hypocrit...\n",
      "Name: clean_questions, dtype: object\n"
     ]
    }
   ],
   "source": [
    "non_toxic_data = X[y == 0]\n",
    "toxic_data = X[y == 1]\n",
    "\n",
    "print(\"Dữ liệu Label 0 (Tiền xử lý):\\n \", non_toxic_data[:10])\n",
    "print('\\n---------------------------\\n')\n",
    "print(\"Dữ liệu Label 1 (Tiền xử lý):\\n \",toxic_data[:10])"
   ]
  },
  {
   "cell_type": "code",
   "execution_count": 17,
   "id": "capable-estate",
   "metadata": {
    "execution": {
     "iopub.execute_input": "2021-06-11T06:43:05.583891Z",
     "iopub.status.busy": "2021-06-11T06:43:05.454033Z",
     "iopub.status.idle": "2021-06-11T06:43:06.057493Z",
     "shell.execute_reply": "2021-06-11T06:43:06.056987Z",
     "shell.execute_reply.started": "2021-06-10T16:36:03.814925Z"
    },
    "papermill": {
     "duration": 3.31345,
     "end_time": "2021-06-11T06:43:06.057654",
     "exception": false,
     "start_time": "2021-06-11T06:43:02.744204",
     "status": "completed"
    },
    "tags": []
   },
   "outputs": [
    {
     "data": {
      "text/plain": [
       "<AxesSubplot:title={'center':'Top 30 từ sử dụng nhiều nhất của label 1'}, ylabel='Word'>"
      ]
     },
     "execution_count": 17,
     "metadata": {},
     "output_type": "execute_result"
    },
    {
     "data": {
      "image/png": "[encoded data removed]",
      "text/plain": [
       "<Figure size 864x720 with 1 Axes>"
      ]
     },
     "metadata": {
      "needs_background": "light"
     },
     "output_type": "display_data"
    }
   ],
   "source": [
    "from collections import Counter\n",
    "\n",
    "# top 30 words in a non toxic data\n",
    "p = Counter(\" \".join(non_toxic_data).split()).most_common(30)\n",
    "rslt = pd.DataFrame(p, columns=['Word', 'Frequency'])\n",
    "\n",
    "rslt.plot(x='Word',kind = \"barh\", figsize=(12,10), title=\"Top 30 từ sử dụng nhiều nhất của label 1\")"
   ]
  },
  {
   "cell_type": "code",
   "execution_count": 18,
   "id": "northern-optics",
   "metadata": {
    "execution": {
     "iopub.execute_input": "2021-06-11T06:43:06.406001Z",
     "iopub.status.busy": "2021-06-11T06:43:06.270106Z",
     "iopub.status.idle": "2021-06-11T06:43:06.780431Z",
     "shell.execute_reply": "2021-06-11T06:43:06.779817Z",
     "shell.execute_reply.started": "2021-06-10T16:36:07.741761Z"
    },
    "papermill": {
     "duration": 0.666892,
     "end_time": "2021-06-11T06:43:06.780563",
     "exception": false,
     "start_time": "2021-06-11T06:43:06.113671",
     "status": "completed"
    },
    "tags": []
   },
   "outputs": [
    {
     "data": {
      "text/plain": [
       "<AxesSubplot:title={'center':'Top 30 từ sử dụng nhiều nhất của label 1'}, ylabel='Word'>"
      ]
     },
     "execution_count": 18,
     "metadata": {},
     "output_type": "execute_result"
    },
    {
     "data": {
      "image/png": "[encoded data removed]",
      "text/plain": [
       "<Figure size 864x720 with 1 Axes>"
      ]
     },
     "metadata": {
      "needs_background": "light"
     },
     "output_type": "display_data"
    }
   ],
   "source": [
    "# top 30 words in a toxic data\n",
    "p = Counter(\" \".join(toxic_data).split()).most_common(30)\n",
    "rslt = pd.DataFrame(p, columns=['Word', 'Frequency'])\n",
    "\n",
    "rslt.plot(x='Word',kind = \"barh\", figsize=(12,10), title=\"Top 30 từ sử dụng nhiều nhất của label 1\")"
   ]
  },
  {
   "cell_type": "markdown",
   "id": "radio-eugene",
   "metadata": {
    "papermill": {
     "duration": 0.05694,
     "end_time": "2021-06-11T06:43:06.894874",
     "exception": false,
     "start_time": "2021-06-11T06:43:06.837934",
     "status": "completed"
    },
    "tags": []
   },
   "source": [
    "Tách dữ liệu để huấn luyện mô hình, dự đoán kết quả\n",
    "\n",
    "- Dữ liệu train = 80% \n",
    "- Dữ liệu test = 20%\n"
   ]
  },
  {
   "cell_type": "code",
   "execution_count": 19,
   "id": "exotic-detector",
   "metadata": {
    "execution": {
     "iopub.execute_input": "2021-06-11T06:43:07.017249Z",
     "iopub.status.busy": "2021-06-11T06:43:07.016532Z",
     "iopub.status.idle": "2021-06-11T06:43:07.433958Z",
     "shell.execute_reply": "2021-06-11T06:43:07.433171Z",
     "shell.execute_reply.started": "2021-06-10T16:36:08.396835Z"
    },
    "papermill": {
     "duration": 0.481052,
     "end_time": "2021-06-11T06:43:07.434158",
     "exception": false,
     "start_time": "2021-06-11T06:43:06.953106",
     "status": "completed"
    },
    "tags": []
   },
   "outputs": [
    {
     "name": "stdout",
     "output_type": "stream",
     "text": [
      "(261225,) (261225,)\n",
      "(1044897,) (1044897,)\n"
     ]
    }
   ],
   "source": [
    "from sklearn.model_selection import train_test_split\n",
    "\n",
    "X_train, X_test, y_train, y_test = train_test_split(X, y, test_size = 0.2, random_state = 1)\n",
    "\n",
    "print(X_test.shape, y_test.shape)\n",
    "print(X_train.shape, y_train.shape)"
   ]
  },
  {
   "cell_type": "markdown",
   "id": "velvet-netherlands",
   "metadata": {
    "papermill": {
     "duration": 0.06135,
     "end_time": "2021-06-11T06:43:07.553952",
     "exception": false,
     "start_time": "2021-06-11T06:43:07.492602",
     "status": "completed"
    },
    "tags": []
   },
   "source": [
    "## 2.2. Vector hóa dữ liệu\n",
    "\n",
    "- CountVectorizer N-gram = (1,3) \n",
    " \n",
    "=> Sử dụng `CountVectorizer` với n-gram trong khoảng [1,3] để trích xuất được trong khoảng 2 từ và 3 từ liên tiếp nhau.\n",
    "- Trích xuất thêm dữ liệu để hiểu câu từ trong ngữ cảnh nào hơn. <br>\n",
    "Giả sử như: ta có từ `germany` thì sẽ chưa hiểu nó là thuộc label nào. <br>\n",
    "Nhưng nếu mà ta trích được `germany hitler` => khả năng cao câu hỏi thuộc label 1."
   ]
  },
  {
   "cell_type": "code",
   "execution_count": 20,
   "id": "intimate-aquatic",
   "metadata": {
    "execution": {
     "iopub.execute_input": "2021-06-11T06:43:07.672834Z",
     "iopub.status.busy": "2021-06-11T06:43:07.672189Z",
     "iopub.status.idle": "2021-06-11T06:43:07.675032Z",
     "shell.execute_reply": "2021-06-11T06:43:07.674433Z",
     "shell.execute_reply.started": "2021-06-10T16:36:08.729784Z"
    },
    "papermill": {
     "duration": 0.064337,
     "end_time": "2021-06-11T06:43:07.675174",
     "exception": false,
     "start_time": "2021-06-11T06:43:07.610837",
     "status": "completed"
    },
    "tags": []
   },
   "outputs": [],
   "source": [
    "from sklearn.feature_extraction.text import CountVectorizer\n",
    "\n",
    "count_vectorizer = CountVectorizer(analyzer=\"word\", ngram_range=(1,3))"
   ]
  },
  {
   "cell_type": "code",
   "execution_count": 21,
   "id": "operational-bracket",
   "metadata": {
    "execution": {
     "iopub.execute_input": "2021-06-11T06:43:07.853993Z",
     "iopub.status.busy": "2021-06-11T06:43:07.817761Z",
     "iopub.status.idle": "2021-06-11T06:45:17.999889Z",
     "shell.execute_reply": "2021-06-11T06:45:17.999289Z",
     "shell.execute_reply.started": "2021-06-10T16:36:08.737306Z"
    },
    "papermill": {
     "duration": 130.267899,
     "end_time": "2021-06-11T06:45:18.000070",
     "exception": false,
     "start_time": "2021-06-11T06:43:07.732171",
     "status": "completed"
    },
    "tags": []
   },
   "outputs": [],
   "source": [
    "# Count Vectorizer\n",
    "count_train = count_vectorizer.fit(X)\n",
    "\n",
    "X_train_vec = count_train.transform(X_train)\n",
    "X_test_vec = count_train.transform(X_test)"
   ]
  },
  {
   "cell_type": "markdown",
   "id": "tropical-serve",
   "metadata": {
    "papermill": {
     "duration": 0.056228,
     "end_time": "2021-06-11T06:45:18.114094",
     "exception": false,
     "start_time": "2021-06-11T06:45:18.057866",
     "status": "completed"
    },
    "tags": []
   },
   "source": [
    "- Thông thường `CountVectorizer` chỉ cần bigram là đủ."
   ]
  },
  {
   "cell_type": "code",
   "execution_count": 22,
   "id": "ongoing-mixture",
   "metadata": {
    "execution": {
     "iopub.execute_input": "2021-06-11T06:45:18.234574Z",
     "iopub.status.busy": "2021-06-11T06:45:18.233871Z",
     "iopub.status.idle": "2021-06-11T06:45:18.235923Z",
     "shell.execute_reply": "2021-06-11T06:45:18.236390Z",
     "shell.execute_reply.started": "2021-06-10T16:38:33.994996Z"
    },
    "papermill": {
     "duration": 0.064502,
     "end_time": "2021-06-11T06:45:18.236547",
     "exception": false,
     "start_time": "2021-06-11T06:45:18.172045",
     "status": "completed"
    },
    "tags": []
   },
   "outputs": [],
   "source": [
    "def get_evaluation(predictions, test):\n",
    "    print('Recall: ', recall_score(predictions, test))\n",
    "    print('F1 score :', f1_score(predictions, test), '\\n')\n",
    "    print(classification_report(test, predictions))"
   ]
  },
  {
   "cell_type": "markdown",
   "id": "weighted-boards",
   "metadata": {
    "papermill": {
     "duration": 0.056238,
     "end_time": "2021-06-11T06:45:18.349685",
     "exception": false,
     "start_time": "2021-06-11T06:45:18.293447",
     "status": "completed"
    },
    "tags": []
   },
   "source": [
    "## 2.3. Huấn luyện mô hình"
   ]
  },
  {
   "cell_type": "code",
   "execution_count": 23,
   "id": "continental-influence",
   "metadata": {
    "execution": {
     "iopub.execute_input": "2021-06-11T06:45:18.465667Z",
     "iopub.status.busy": "2021-06-11T06:45:18.465048Z",
     "iopub.status.idle": "2021-06-11T06:45:18.769102Z",
     "shell.execute_reply": "2021-06-11T06:45:18.768518Z",
     "shell.execute_reply.started": "2021-06-10T18:19:52.07604Z"
    },
    "papermill": {
     "duration": 0.363014,
     "end_time": "2021-06-11T06:45:18.769243",
     "exception": false,
     "start_time": "2021-06-11T06:45:18.406229",
     "status": "completed"
    },
    "tags": []
   },
   "outputs": [],
   "source": [
    "# Thư viện\n",
    "from sklearn.linear_model import LogisticRegression\n",
    "from sklearn.svm import LinearSVC\n",
    "from imblearn.over_sampling import RandomOverSampler\n",
    "import numpy as np\n",
    "\n",
    "from sklearn.metrics import accuracy_score, recall_score ,f1_score\n",
    "from sklearn.metrics import classification_report"
   ]
  },
  {
   "cell_type": "markdown",
   "id": "closed-subcommittee",
   "metadata": {
    "papermill": {
     "duration": 0.057034,
     "end_time": "2021-06-11T06:45:18.883441",
     "exception": false,
     "start_time": "2021-06-11T06:45:18.826407",
     "status": "completed"
    },
    "tags": []
   },
   "source": [
    "<h2> Mô hình Logistic Regression </h2>\n",
    "- Count Vectorizer với N-grams = [1,3] <br>      \n"
   ]
  },
  {
   "cell_type": "code",
   "execution_count": 24,
   "id": "collaborative-consultation",
   "metadata": {
    "execution": {
     "iopub.execute_input": "2021-06-11T06:45:19.002569Z",
     "iopub.status.busy": "2021-06-11T06:45:19.001855Z",
     "iopub.status.idle": "2021-06-11T06:48:46.275697Z",
     "shell.execute_reply": "2021-06-11T06:48:46.276402Z",
     "shell.execute_reply.started": "2021-06-10T18:12:49.78199Z"
    },
    "papermill": {
     "duration": 207.335825,
     "end_time": "2021-06-11T06:48:46.276649",
     "exception": false,
     "start_time": "2021-06-11T06:45:18.940824",
     "status": "completed"
    },
    "tags": []
   },
   "outputs": [
    {
     "name": "stderr",
     "output_type": "stream",
     "text": [
      "/opt/conda/lib/python3.7/site-packages/sklearn/linear_model/_logistic.py:765: ConvergenceWarning: lbfgs failed to converge (status=1):\n",
      "STOP: TOTAL NO. of ITERATIONS REACHED LIMIT.\n",
      "\n",
      "Increase the number of iterations (max_iter) or scale the data as shown in:\n",
      "    https://scikit-learn.org/stable/modules/preprocessing.html\n",
      "Please also refer to the documentation for alternative solver options:\n",
      "    https://scikit-learn.org/stable/modules/linear_model.html#logistic-regression\n",
      "  extra_warning_msg=_LOGISTIC_SOLVER_CONVERGENCE_MSG)\n"
     ]
    }
   ],
   "source": [
    "lr = LogisticRegression(class_weight = 'balanced', random_state=0)\n",
    "lr.fit(X_train_vec, y_train)\n",
    "y_pred = lr.predict(X_test_vec)"
   ]
  },
  {
   "cell_type": "code",
   "execution_count": 25,
   "id": "appointed-liberia",
   "metadata": {
    "execution": {
     "iopub.execute_input": "2021-06-11T06:48:46.451604Z",
     "iopub.status.busy": "2021-06-11T06:48:46.450752Z",
     "iopub.status.idle": "2021-06-11T06:48:47.113220Z",
     "shell.execute_reply": "2021-06-11T06:48:47.113720Z",
     "shell.execute_reply.started": "2021-06-10T18:16:22.578359Z"
    },
    "papermill": {
     "duration": 0.778936,
     "end_time": "2021-06-11T06:48:47.113886",
     "exception": false,
     "start_time": "2021-06-11T06:48:46.334950",
     "status": "completed"
    },
    "tags": []
   },
   "outputs": [
    {
     "name": "stdout",
     "output_type": "stream",
     "text": [
      "Logistic Regression with Count Vectorizer\n",
      "\n",
      "Recall:  0.5642762635617888\n",
      "F1 score : 0.6062604838938959 \n",
      "\n",
      "              precision    recall  f1-score   support\n",
      "\n",
      "           0       0.98      0.97      0.97    244947\n",
      "           1       0.56      0.65      0.61     16278\n",
      "\n",
      "    accuracy                           0.95    261225\n",
      "   macro avg       0.77      0.81      0.79    261225\n",
      "weighted avg       0.95      0.95      0.95    261225\n",
      "\n"
     ]
    }
   ],
   "source": [
    "print(\"Logistic Regression with Count Vectorizer\\n\")\n",
    "get_evaluation(y_pred, y_test)"
   ]
  },
  {
   "cell_type": "markdown",
   "id": "internal-alliance",
   "metadata": {
    "papermill": {
     "duration": 0.058095,
     "end_time": "2021-06-11T06:48:47.230879",
     "exception": false,
     "start_time": "2021-06-11T06:48:47.172784",
     "status": "completed"
    },
    "tags": []
   },
   "source": [
    "<h2> Mô hình SVC </h2>\n",
    "- Count Vectorizer với N-grams = [1,3] <br>      \n"
   ]
  },
  {
   "cell_type": "code",
   "execution_count": 26,
   "id": "weird-protein",
   "metadata": {
    "execution": {
     "iopub.execute_input": "2021-06-11T06:48:47.353082Z",
     "iopub.status.busy": "2021-06-11T06:48:47.352339Z",
     "iopub.status.idle": "2021-06-11T06:50:14.912095Z",
     "shell.execute_reply": "2021-06-11T06:50:14.912572Z",
     "shell.execute_reply.started": "2021-06-10T16:48:08.595416Z"
    },
    "papermill": {
     "duration": 87.623634,
     "end_time": "2021-06-11T06:50:14.912779",
     "exception": false,
     "start_time": "2021-06-11T06:48:47.289145",
     "status": "completed"
    },
    "tags": []
   },
   "outputs": [
    {
     "name": "stdout",
     "output_type": "stream",
     "text": [
      "[LibLinear]"
     ]
    }
   ],
   "source": [
    "lsvc = LinearSVC(random_state=3, tol=0.01, loss='hinge', C=1, verbose=2, class_weight='balanced')\n",
    "\n",
    "lsvc.fit(X_train_vec, y_train) \n",
    "y_pred2 = lsvc.predict(X_test_vec)"
   ]
  },
  {
   "cell_type": "code",
   "execution_count": 27,
   "id": "specific-ridge",
   "metadata": {
    "execution": {
     "iopub.execute_input": "2021-06-11T06:50:15.035804Z",
     "iopub.status.busy": "2021-06-11T06:50:15.035158Z",
     "iopub.status.idle": "2021-06-11T06:50:15.691334Z",
     "shell.execute_reply": "2021-06-11T06:50:15.690555Z",
     "shell.execute_reply.started": "2021-06-10T16:49:36.816285Z"
    },
    "papermill": {
     "duration": 0.71941,
     "end_time": "2021-06-11T06:50:15.691522",
     "exception": false,
     "start_time": "2021-06-11T06:50:14.972112",
     "status": "completed"
    },
    "tags": []
   },
   "outputs": [
    {
     "name": "stdout",
     "output_type": "stream",
     "text": [
      "-----------\n",
      "\n",
      "SVC with Count Vectorizer\n",
      "\n",
      "Recall:  0.6548775055679288\n",
      "F1 score : 0.534559866196415 \n",
      "\n",
      "              precision    recall  f1-score   support\n",
      "\n",
      "           0       0.96      0.98      0.97    244947\n",
      "           1       0.65      0.45      0.53     16278\n",
      "\n",
      "    accuracy                           0.95    261225\n",
      "   macro avg       0.81      0.72      0.75    261225\n",
      "weighted avg       0.95      0.95      0.95    261225\n",
      "\n"
     ]
    }
   ],
   "source": [
    "print('-----------\\n')\n",
    "print(\"SVC with Count Vectorizer\\n\")\n",
    "get_evaluation(y_pred2, y_test)"
   ]
  },
  {
   "cell_type": "markdown",
   "id": "inappropriate-ecology",
   "metadata": {
    "papermill": {
     "duration": 0.05964,
     "end_time": "2021-06-11T06:50:15.812549",
     "exception": false,
     "start_time": "2021-06-11T06:50:15.752909",
     "status": "completed"
    },
    "tags": []
   },
   "source": [
    "<h2> Mô hình SVC + LR + Oversampling</h2>\n",
    "- Count Vectorizer với N-grams = [1,3] <br>      \n"
   ]
  },
  {
   "cell_type": "code",
   "execution_count": 28,
   "id": "emotional-month",
   "metadata": {
    "execution": {
     "iopub.execute_input": "2021-06-11T06:50:15.937777Z",
     "iopub.status.busy": "2021-06-11T06:50:15.937086Z",
     "iopub.status.idle": "2021-06-11T06:50:17.022297Z",
     "shell.execute_reply": "2021-06-11T06:50:17.022783Z",
     "shell.execute_reply.started": "2021-06-10T17:45:28.457237Z"
    },
    "papermill": {
     "duration": 1.150506,
     "end_time": "2021-06-11T06:50:17.022968",
     "exception": false,
     "start_time": "2021-06-11T06:50:15.872462",
     "status": "completed"
    },
    "tags": []
   },
   "outputs": [],
   "source": [
    "# define oversampling + undersampling strategy\n",
    "oversample = RandomOverSampler(sampling_strategy=0.5)\n",
    "\n",
    "# fit and apply the transform\n",
    "X_over, y_over = oversample.fit_resample(X_train_vec, y_train)"
   ]
  },
  {
   "cell_type": "code",
   "execution_count": 29,
   "id": "optimum-comedy",
   "metadata": {
    "execution": {
     "iopub.execute_input": "2021-06-11T06:50:17.411928Z",
     "iopub.status.busy": "2021-06-11T06:50:17.410317Z",
     "iopub.status.idle": "2021-06-11T06:50:17.416862Z",
     "shell.execute_reply": "2021-06-11T06:50:17.416324Z",
     "shell.execute_reply.started": "2021-06-10T17:45:31.465264Z"
    },
    "papermill": {
     "duration": 0.333778,
     "end_time": "2021-06-11T06:50:17.417001",
     "exception": false,
     "start_time": "2021-06-11T06:50:17.083223",
     "status": "completed"
    },
    "tags": []
   },
   "outputs": [
    {
     "name": "stdout",
     "output_type": "stream",
     "text": [
      "Counter({0: 980365, 1: 490182})\n"
     ]
    },
    {
     "data": {
      "text/plain": [
       "(1470547,)"
      ]
     },
     "execution_count": 29,
     "metadata": {},
     "output_type": "execute_result"
    }
   ],
   "source": [
    "from collections import Counter\n",
    "\n",
    "print(Counter(y_over))\n",
    "y_over.shape"
   ]
  },
  {
   "cell_type": "code",
   "execution_count": 30,
   "id": "extraordinary-wireless",
   "metadata": {
    "execution": {
     "iopub.execute_input": "2021-06-11T06:50:17.570911Z",
     "iopub.status.busy": "2021-06-11T06:50:17.570276Z",
     "iopub.status.idle": "2021-06-11T06:54:08.352061Z",
     "shell.execute_reply": "2021-06-11T06:54:08.352599Z",
     "shell.execute_reply.started": "2021-06-10T17:46:51.203049Z"
    },
    "papermill": {
     "duration": 230.859873,
     "end_time": "2021-06-11T06:54:08.352799",
     "exception": false,
     "start_time": "2021-06-11T06:50:17.492926",
     "status": "completed"
    },
    "tags": []
   },
   "outputs": [
    {
     "name": "stderr",
     "output_type": "stream",
     "text": [
      "/opt/conda/lib/python3.7/site-packages/sklearn/linear_model/_logistic.py:765: ConvergenceWarning: lbfgs failed to converge (status=1):\n",
      "STOP: TOTAL NO. of ITERATIONS REACHED LIMIT.\n",
      "\n",
      "Increase the number of iterations (max_iter) or scale the data as shown in:\n",
      "    https://scikit-learn.org/stable/modules/preprocessing.html\n",
      "Please also refer to the documentation for alternative solver options:\n",
      "    https://scikit-learn.org/stable/modules/linear_model.html#logistic-regression\n",
      "  extra_warning_msg=_LOGISTIC_SOLVER_CONVERGENCE_MSG)\n"
     ]
    }
   ],
   "source": [
    "lr2 = LogisticRegression(class_weight='balanced')\n",
    "lsvc2 = LinearSVC(class_weight='balanced')\n",
    "\n",
    "lr2.fit(X_over, y_over)\n",
    "y_pred3 = lr2.predict(X_test_vec)"
   ]
  },
  {
   "cell_type": "code",
   "execution_count": 31,
   "id": "sealed-exclusive",
   "metadata": {
    "execution": {
     "iopub.execute_input": "2021-06-11T06:54:08.488338Z",
     "iopub.status.busy": "2021-06-11T06:54:08.487269Z",
     "iopub.status.idle": "2021-06-11T07:01:46.867912Z",
     "shell.execute_reply": "2021-06-11T07:01:46.868449Z",
     "shell.execute_reply.started": "2021-06-10T17:50:42.965839Z"
    },
    "papermill": {
     "duration": 458.455527,
     "end_time": "2021-06-11T07:01:46.868646",
     "exception": false,
     "start_time": "2021-06-11T06:54:08.413119",
     "status": "completed"
    },
    "tags": []
   },
   "outputs": [
    {
     "name": "stderr",
     "output_type": "stream",
     "text": [
      "/opt/conda/lib/python3.7/site-packages/sklearn/svm/_base.py:986: ConvergenceWarning: Liblinear failed to converge, increase the number of iterations.\n",
      "  \"the number of iterations.\", ConvergenceWarning)\n"
     ]
    }
   ],
   "source": [
    "lsvc2.fit(X_over, y_over)\n",
    "y_pred4 = lsvc2.predict(X_test_vec)"
   ]
  },
  {
   "cell_type": "code",
   "execution_count": 32,
   "id": "tender-abraham",
   "metadata": {
    "execution": {
     "iopub.execute_input": "2021-06-11T07:01:46.995539Z",
     "iopub.status.busy": "2021-06-11T07:01:46.994843Z",
     "iopub.status.idle": "2021-06-11T07:01:47.648141Z",
     "shell.execute_reply": "2021-06-11T07:01:47.647601Z",
     "shell.execute_reply.started": "2021-06-10T17:59:37.61056Z"
    },
    "papermill": {
     "duration": 0.718468,
     "end_time": "2021-06-11T07:01:47.648286",
     "exception": false,
     "start_time": "2021-06-11T07:01:46.929818",
     "status": "completed"
    },
    "tags": []
   },
   "outputs": [
    {
     "name": "stdout",
     "output_type": "stream",
     "text": [
      "Logistic Regression - Count Vectorizer - Oversampling\n",
      "Recall:  0.5761200767407741\n",
      "F1 score : 0.6005882352941176 \n",
      "\n",
      "              precision    recall  f1-score   support\n",
      "\n",
      "           0       0.98      0.97      0.97    244947\n",
      "           1       0.58      0.63      0.60     16278\n",
      "\n",
      "    accuracy                           0.95    261225\n",
      "   macro avg       0.78      0.80      0.79    261225\n",
      "weighted avg       0.95      0.95      0.95    261225\n",
      "\n"
     ]
    }
   ],
   "source": [
    "print('Logistic Regression - Count Vectorizer - Oversampling')\n",
    "get_evaluation(y_pred3, y_test)"
   ]
  },
  {
   "cell_type": "code",
   "execution_count": 33,
   "id": "direct-assurance",
   "metadata": {
    "execution": {
     "iopub.execute_input": "2021-06-11T07:01:47.777376Z",
     "iopub.status.busy": "2021-06-11T07:01:47.776763Z",
     "iopub.status.idle": "2021-06-11T07:01:48.417283Z",
     "shell.execute_reply": "2021-06-11T07:01:48.417996Z",
     "shell.execute_reply.started": "2021-06-10T17:59:38.273129Z"
    },
    "papermill": {
     "duration": 0.707495,
     "end_time": "2021-06-11T07:01:48.418209",
     "exception": false,
     "start_time": "2021-06-11T07:01:47.710714",
     "status": "completed"
    },
    "tags": []
   },
   "outputs": [
    {
     "name": "stdout",
     "output_type": "stream",
     "text": [
      "Linear SVC - Count Vectorizer - Oversampling\n",
      "Recall:  0.634935541705797\n",
      "F1 score : 0.5313850880640205 \n",
      "\n",
      "              precision    recall  f1-score   support\n",
      "\n",
      "           0       0.96      0.98      0.97    244947\n",
      "           1       0.63      0.46      0.53     16278\n",
      "\n",
      "    accuracy                           0.95    261225\n",
      "   macro avg       0.80      0.72      0.75    261225\n",
      "weighted avg       0.94      0.95      0.95    261225\n",
      "\n"
     ]
    }
   ],
   "source": [
    "print('Linear SVC - Count Vectorizer - Oversampling')\n",
    "get_evaluation(y_pred4, y_test)"
   ]
  },
  {
   "cell_type": "markdown",
   "id": "acting-adoption",
   "metadata": {
    "papermill": {
     "duration": 0.06264,
     "end_time": "2021-06-11T07:01:48.544282",
     "exception": false,
     "start_time": "2021-06-11T07:01:48.481642",
     "status": "completed"
    },
    "tags": []
   },
   "source": [
    "## So sánh mô hình\n",
    "\n",
    "- Nhận xét: Kết quả mô hình không thay đổi sau lần OverSampling "
   ]
  },
  {
   "cell_type": "code",
   "execution_count": 34,
   "id": "complete-bosnia",
   "metadata": {
    "execution": {
     "iopub.execute_input": "2021-06-11T07:01:48.675552Z",
     "iopub.status.busy": "2021-06-11T07:01:48.674914Z",
     "iopub.status.idle": "2021-06-11T07:01:51.294716Z",
     "shell.execute_reply": "2021-06-11T07:01:51.294151Z",
     "shell.execute_reply.started": "2021-06-10T18:17:38.454388Z"
    },
    "papermill": {
     "duration": 2.68821,
     "end_time": "2021-06-11T07:01:51.294868",
     "exception": false,
     "start_time": "2021-06-11T07:01:48.606658",
     "status": "completed"
    },
    "tags": []
   },
   "outputs": [
    {
     "name": "stdout",
     "output_type": "stream",
     "text": [
      "Logistic Regression with Count Vectorizer\n",
      "\n",
      "Recall:  0.5642762635617888\n",
      "F1 score : 0.6062604838938959 \n",
      "\n",
      "              precision    recall  f1-score   support\n",
      "\n",
      "           0       0.98      0.97      0.97    244947\n",
      "           1       0.56      0.65      0.61     16278\n",
      "\n",
      "    accuracy                           0.95    261225\n",
      "   macro avg       0.77      0.81      0.79    261225\n",
      "weighted avg       0.95      0.95      0.95    261225\n",
      "\n",
      "-------------\n",
      "\n",
      "SVC with Count Vectorizer\n",
      "\n",
      "Recall:  0.6548775055679288\n",
      "F1 score : 0.534559866196415 \n",
      "\n",
      "              precision    recall  f1-score   support\n",
      "\n",
      "           0       0.96      0.98      0.97    244947\n",
      "           1       0.65      0.45      0.53     16278\n",
      "\n",
      "    accuracy                           0.95    261225\n",
      "   macro avg       0.81      0.72      0.75    261225\n",
      "weighted avg       0.95      0.95      0.95    261225\n",
      "\n",
      "-------------\n",
      "\n",
      "Logistic Regression - Count Vectorizer - Oversampling\n",
      "Recall:  0.5761200767407741\n",
      "F1 score : 0.6005882352941176 \n",
      "\n",
      "              precision    recall  f1-score   support\n",
      "\n",
      "           0       0.98      0.97      0.97    244947\n",
      "           1       0.58      0.63      0.60     16278\n",
      "\n",
      "    accuracy                           0.95    261225\n",
      "   macro avg       0.78      0.80      0.79    261225\n",
      "weighted avg       0.95      0.95      0.95    261225\n",
      "\n",
      "-------------\n",
      "\n",
      "Linear SVC - Count Vectorizer - Oversampling\n",
      "Recall:  0.634935541705797\n",
      "F1 score : 0.5313850880640205 \n",
      "\n",
      "              precision    recall  f1-score   support\n",
      "\n",
      "           0       0.96      0.98      0.97    244947\n",
      "           1       0.63      0.46      0.53     16278\n",
      "\n",
      "    accuracy                           0.95    261225\n",
      "   macro avg       0.80      0.72      0.75    261225\n",
      "weighted avg       0.94      0.95      0.95    261225\n",
      "\n"
     ]
    }
   ],
   "source": [
    "print(\"Logistic Regression with Count Vectorizer\\n\")\n",
    "get_evaluation(y_pred, y_test)\n",
    "print('-------------\\n')\n",
    "print(\"SVC with Count Vectorizer\\n\")\n",
    "get_evaluation(y_pred2, y_test)\n",
    "print('-------------\\n')\n",
    "print('Logistic Regression - Count Vectorizer - Oversampling')\n",
    "get_evaluation(y_pred3, y_test)\n",
    "print('-------------\\n')\n",
    "print('Linear SVC - Count Vectorizer - Oversampling')\n",
    "get_evaluation(y_pred4, y_test)"
   ]
  },
  {
   "cell_type": "markdown",
   "id": "warming-customer",
   "metadata": {
    "papermill": {
     "duration": 0.065189,
     "end_time": "2021-06-11T07:01:51.426574",
     "exception": false,
     "start_time": "2021-06-11T07:01:51.361385",
     "status": "completed"
    },
    "tags": []
   },
   "source": [
    "<h2> Chọn mô hình Logistic Regression đầu tiên để kiểm tra. </h2>"
   ]
  },
  {
   "cell_type": "markdown",
   "id": "recent-prayer",
   "metadata": {
    "papermill": {
     "duration": 0.065546,
     "end_time": "2021-06-11T07:01:51.557863",
     "exception": false,
     "start_time": "2021-06-11T07:01:51.492317",
     "status": "completed"
    },
    "tags": []
   },
   "source": [
    "\n"
   ]
  },
  {
   "cell_type": "markdown",
   "id": "english-senegal",
   "metadata": {
    "papermill": {
     "duration": 0.065006,
     "end_time": "2021-06-11T07:01:51.688176",
     "exception": false,
     "start_time": "2021-06-11T07:01:51.623170",
     "status": "completed"
    },
    "tags": []
   },
   "source": [
    "# 3. Tạo submission"
   ]
  },
  {
   "cell_type": "code",
   "execution_count": 35,
   "id": "macro-corner",
   "metadata": {
    "execution": {
     "iopub.execute_input": "2021-06-11T07:01:51.822336Z",
     "iopub.status.busy": "2021-06-11T07:01:51.821697Z",
     "iopub.status.idle": "2021-06-11T07:04:47.597159Z",
     "shell.execute_reply": "2021-06-11T07:04:47.597725Z",
     "shell.execute_reply.started": "2021-06-10T14:48:29.892961Z"
    },
    "papermill": {
     "duration": 175.844567,
     "end_time": "2021-06-11T07:04:47.597927",
     "exception": false,
     "start_time": "2021-06-11T07:01:51.753360",
     "status": "completed"
    },
    "tags": []
   },
   "outputs": [
    {
     "data": {
      "text/html": [
       "<div>\n",
       "<style scoped>\n",
       "    .dataframe tbody tr th:only-of-type {\n",
       "        vertical-align: middle;\n",
       "    }\n",
       "\n",
       "    .dataframe tbody tr th {\n",
       "        vertical-align: top;\n",
       "    }\n",
       "\n",
       "    .dataframe thead th {\n",
       "        text-align: right;\n",
       "    }\n",
       "</style>\n",
       "<table border=\"1\" class=\"dataframe\">\n",
       "  <thead>\n",
       "    <tr style=\"text-align: right;\">\n",
       "      <th></th>\n",
       "      <th>qid</th>\n",
       "      <th>question_text</th>\n",
       "      <th>clean_questions</th>\n",
       "    </tr>\n",
       "  </thead>\n",
       "  <tbody>\n",
       "    <tr>\n",
       "      <th>0</th>\n",
       "      <td>0000163e3ea7c7a74cd7</td>\n",
       "      <td>Why do so many women become so rude and arroga...</td>\n",
       "      <td>many woman become rude arrogant get little bit...</td>\n",
       "    </tr>\n",
       "    <tr>\n",
       "      <th>1</th>\n",
       "      <td>00002bd4fb5d505b9161</td>\n",
       "      <td>When should I apply for RV college of engineer...</td>\n",
       "      <td>apply rv college engineering bm college engine...</td>\n",
       "    </tr>\n",
       "    <tr>\n",
       "      <th>2</th>\n",
       "      <td>00007756b4a147d2b0b3</td>\n",
       "      <td>What is it really like to be a nurse practitio...</td>\n",
       "      <td>really like nurse practitioner</td>\n",
       "    </tr>\n",
       "    <tr>\n",
       "      <th>3</th>\n",
       "      <td>000086e4b7e1c7146103</td>\n",
       "      <td>Who are entrepreneurs?</td>\n",
       "      <td>entrepreneur</td>\n",
       "    </tr>\n",
       "    <tr>\n",
       "      <th>4</th>\n",
       "      <td>0000c4c3fbe8785a3090</td>\n",
       "      <td>Is education really making good people nowadays?</td>\n",
       "      <td>education really making good people nowadays</td>\n",
       "    </tr>\n",
       "    <tr>\n",
       "      <th>...</th>\n",
       "      <td>...</td>\n",
       "      <td>...</td>\n",
       "      <td>...</td>\n",
       "    </tr>\n",
       "    <tr>\n",
       "      <th>375801</th>\n",
       "      <td>ffff7fa746bd6d6197a9</td>\n",
       "      <td>How many countries listed in gold import in in...</td>\n",
       "      <td>many country listed gold import indua</td>\n",
       "    </tr>\n",
       "    <tr>\n",
       "      <th>375802</th>\n",
       "      <td>ffffa1be31c43046ab6b</td>\n",
       "      <td>Is there an alternative to dresses on formal p...</td>\n",
       "      <td>alternative dress formal party</td>\n",
       "    </tr>\n",
       "    <tr>\n",
       "      <th>375803</th>\n",
       "      <td>ffffae173b6ca6bfa563</td>\n",
       "      <td>Where I can find best friendship quotes in Tel...</td>\n",
       "      <td>find best friendship quote telugu</td>\n",
       "    </tr>\n",
       "    <tr>\n",
       "      <th>375804</th>\n",
       "      <td>ffffb1f7f1a008620287</td>\n",
       "      <td>What are the causes of refraction of light?</td>\n",
       "      <td>cause refraction light</td>\n",
       "    </tr>\n",
       "    <tr>\n",
       "      <th>375805</th>\n",
       "      <td>fffff85473f4699474b0</td>\n",
       "      <td>Climate change is a worrying topic. How much t...</td>\n",
       "      <td>climate change worrying topic much time left f...</td>\n",
       "    </tr>\n",
       "  </tbody>\n",
       "</table>\n",
       "<p>375806 rows × 3 columns</p>\n",
       "</div>"
      ],
      "text/plain": [
       "                         qid  \\\n",
       "0       0000163e3ea7c7a74cd7   \n",
       "1       00002bd4fb5d505b9161   \n",
       "2       00007756b4a147d2b0b3   \n",
       "3       000086e4b7e1c7146103   \n",
       "4       0000c4c3fbe8785a3090   \n",
       "...                      ...   \n",
       "375801  ffff7fa746bd6d6197a9   \n",
       "375802  ffffa1be31c43046ab6b   \n",
       "375803  ffffae173b6ca6bfa563   \n",
       "375804  ffffb1f7f1a008620287   \n",
       "375805  fffff85473f4699474b0   \n",
       "\n",
       "                                            question_text  \\\n",
       "0       Why do so many women become so rude and arroga...   \n",
       "1       When should I apply for RV college of engineer...   \n",
       "2       What is it really like to be a nurse practitio...   \n",
       "3                                  Who are entrepreneurs?   \n",
       "4        Is education really making good people nowadays?   \n",
       "...                                                   ...   \n",
       "375801  How many countries listed in gold import in in...   \n",
       "375802  Is there an alternative to dresses on formal p...   \n",
       "375803  Where I can find best friendship quotes in Tel...   \n",
       "375804        What are the causes of refraction of light?   \n",
       "375805  Climate change is a worrying topic. How much t...   \n",
       "\n",
       "                                          clean_questions  \n",
       "0       many woman become rude arrogant get little bit...  \n",
       "1       apply rv college engineering bm college engine...  \n",
       "2                          really like nurse practitioner  \n",
       "3                                            entrepreneur  \n",
       "4            education really making good people nowadays  \n",
       "...                                                   ...  \n",
       "375801              many country listed gold import indua  \n",
       "375802                     alternative dress formal party  \n",
       "375803                  find best friendship quote telugu  \n",
       "375804                             cause refraction light  \n",
       "375805  climate change worrying topic much time left f...  \n",
       "\n",
       "[375806 rows x 3 columns]"
      ]
     },
     "execution_count": 35,
     "metadata": {},
     "output_type": "execute_result"
    }
   ],
   "source": [
    "test_data['clean_questions'] = test_data['question_text'].apply(clean)\n",
    "test_data"
   ]
  },
  {
   "cell_type": "code",
   "execution_count": 36,
   "id": "according-bidding",
   "metadata": {
    "execution": {
     "iopub.execute_input": "2021-06-11T07:04:47.738754Z",
     "iopub.status.busy": "2021-06-11T07:04:47.738080Z",
     "iopub.status.idle": "2021-06-11T07:04:47.742280Z",
     "shell.execute_reply": "2021-06-11T07:04:47.741754Z",
     "shell.execute_reply.started": "2021-06-10T14:51:25.093405Z"
    },
    "papermill": {
     "duration": 0.076893,
     "end_time": "2021-06-11T07:04:47.742412",
     "exception": false,
     "start_time": "2021-06-11T07:04:47.665519",
     "status": "completed"
    },
    "tags": []
   },
   "outputs": [
    {
     "data": {
      "text/plain": [
       "(375806,)"
      ]
     },
     "execution_count": 36,
     "metadata": {},
     "output_type": "execute_result"
    }
   ],
   "source": [
    "X = test_data['clean_questions']\n",
    "\n",
    "X.shape"
   ]
  },
  {
   "cell_type": "code",
   "execution_count": 37,
   "id": "described-august",
   "metadata": {
    "execution": {
     "iopub.execute_input": "2021-06-11T07:04:47.884605Z",
     "iopub.status.busy": "2021-06-11T07:04:47.883633Z",
     "iopub.status.idle": "2021-06-11T07:04:59.123016Z",
     "shell.execute_reply": "2021-06-11T07:04:59.123476Z",
     "shell.execute_reply.started": "2021-06-10T14:51:25.101833Z"
    },
    "papermill": {
     "duration": 11.312342,
     "end_time": "2021-06-11T07:04:59.123682",
     "exception": false,
     "start_time": "2021-06-11T07:04:47.811340",
     "status": "completed"
    },
    "tags": []
   },
   "outputs": [],
   "source": [
    "X_vec_test = count_vectorizer.transform(X)"
   ]
  },
  {
   "cell_type": "code",
   "execution_count": 38,
   "id": "lightweight-catalog",
   "metadata": {
    "execution": {
     "iopub.execute_input": "2021-06-11T07:04:59.259754Z",
     "iopub.status.busy": "2021-06-11T07:04:59.258532Z",
     "iopub.status.idle": "2021-06-11T07:04:59.303919Z",
     "shell.execute_reply": "2021-06-11T07:04:59.304449Z",
     "shell.execute_reply.started": "2021-06-10T14:51:37.114807Z"
    },
    "papermill": {
     "duration": 0.114898,
     "end_time": "2021-06-11T07:04:59.304647",
     "exception": false,
     "start_time": "2021-06-11T07:04:59.189749",
     "status": "completed"
    },
    "tags": []
   },
   "outputs": [],
   "source": [
    "predictions = lr.predict(X_vec_test)"
   ]
  },
  {
   "cell_type": "code",
   "execution_count": 39,
   "id": "superior-richmond",
   "metadata": {
    "execution": {
     "iopub.execute_input": "2021-06-11T07:04:59.441237Z",
     "iopub.status.busy": "2021-06-11T07:04:59.440572Z",
     "iopub.status.idle": "2021-06-11T07:04:59.444988Z",
     "shell.execute_reply": "2021-06-11T07:04:59.445469Z",
     "shell.execute_reply.started": "2021-06-10T14:51:37.164745Z"
    },
    "papermill": {
     "duration": 0.074166,
     "end_time": "2021-06-11T07:04:59.445659",
     "exception": false,
     "start_time": "2021-06-11T07:04:59.371493",
     "status": "completed"
    },
    "tags": []
   },
   "outputs": [
    {
     "data": {
      "text/plain": [
       "(375806,)"
      ]
     },
     "execution_count": 39,
     "metadata": {},
     "output_type": "execute_result"
    }
   ],
   "source": [
    "predictions.shape"
   ]
  },
  {
   "cell_type": "code",
   "execution_count": 40,
   "id": "retired-chicken",
   "metadata": {
    "execution": {
     "iopub.execute_input": "2021-06-11T07:04:59.582178Z",
     "iopub.status.busy": "2021-06-11T07:04:59.581540Z",
     "iopub.status.idle": "2021-06-11T07:05:00.603629Z",
     "shell.execute_reply": "2021-06-11T07:05:00.603064Z",
     "shell.execute_reply.started": "2021-06-10T14:51:37.171742Z"
    },
    "papermill": {
     "duration": 1.091551,
     "end_time": "2021-06-11T07:05:00.603791",
     "exception": false,
     "start_time": "2021-06-11T07:04:59.512240",
     "status": "completed"
    },
    "tags": []
   },
   "outputs": [],
   "source": [
    "test_data['prediction'] = predictions\n",
    "\n",
    "results = test_data[['qid', 'prediction']]\n",
    "results.to_csv('submission.csv', index=False)"
   ]
  },
  {
   "cell_type": "code",
   "execution_count": null,
   "id": "turkish-negative",
   "metadata": {
    "papermill": {
     "duration": 0.067226,
     "end_time": "2021-06-11T07:05:00.737746",
     "exception": false,
     "start_time": "2021-06-11T07:05:00.670520",
     "status": "completed"
    },
    "tags": []
   },
   "outputs": [],
   "source": []
  }
 ],
 "metadata": {
  "kernelspec": {
   "display_name": "Python 3",
   "language": "python",
   "name": "python3"
  },
  "language_info": {
   "codemirror_mode": {
    "name": "ipython",
    "version": 3
   },
   "file_extension": ".py",
   "mimetype": "text/x-python",
   "name": "python",
   "nbconvert_exporter": "python",
   "pygments_lexer": "ipython3",
   "version": "3.7.10"
  },
  "papermill": {
   "default_parameters": {},
   "duration": 2008.125792,
   "end_time": "2021-06-11T07:05:03.413962",
   "environment_variables": {},
   "exception": null,
   "input_path": "__notebook__.ipynb",
   "output_path": "__notebook__.ipynb",
   "parameters": {},
   "start_time": "2021-06-11T06:31:35.288170",
   "version": "2.3.3"
  }
 },
 "nbformat": 4,
 "nbformat_minor": 5
}
